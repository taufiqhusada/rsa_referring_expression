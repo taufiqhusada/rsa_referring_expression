{
 "cells": [
  {
   "cell_type": "code",
   "execution_count": 1,
   "metadata": {},
   "outputs": [],
   "source": [
    "# !python -m spacy download de_core_news_sm"
   ]
  },
  {
   "cell_type": "code",
   "execution_count": 2,
   "metadata": {},
   "outputs": [],
   "source": [
    "raw_data_path = \"data_german/raw_german.txt\""
   ]
  },
  {
   "cell_type": "code",
   "execution_count": 3,
   "metadata": {},
   "outputs": [],
   "source": [
    "import os"
   ]
  },
  {
   "cell_type": "code",
   "execution_count": 4,
   "metadata": {},
   "outputs": [
    {
     "name": "stdout",
     "output_type": "stream",
     "text": [
      "29000\n"
     ]
    }
   ],
   "source": [
    "with open(raw_data_path) as f:\n",
    "    raw_data = f.readlines()\n",
    "print(len(raw_data))"
   ]
  },
  {
   "cell_type": "code",
   "execution_count": 5,
   "metadata": {},
   "outputs": [
    {
     "data": {
      "text/plain": [
       "'Zwei junge weiße Männer sind im Freien in der Nähe vieler Büsche.'"
      ]
     },
     "execution_count": 5,
     "metadata": {},
     "output_type": "execute_result"
    }
   ],
   "source": [
    "raw_data[0].strip()"
   ]
  },
  {
   "cell_type": "code",
   "execution_count": 6,
   "metadata": {},
   "outputs": [
    {
     "name": "stdout",
     "output_type": "stream",
     "text": [
      "Zwei junge weiße Männer sind im Freien in der Nähe vieler Büsche.\n",
      "Zwei NUM\n",
      "junge ADJ\n",
      "weiße ADJ\n",
      "Männer NOUN\n",
      "sind AUX\n",
      "im ADP\n",
      "Freien NOUN\n",
      "in ADP\n",
      "der DET\n",
      "Nähe NOUN\n",
      "vieler DET\n",
      "Büsche NOUN\n",
      ". PUNCT\n"
     ]
    }
   ],
   "source": [
    "import spacy\n",
    "from spacy.lang.de.examples import sentences \n",
    "\n",
    "nlp = spacy.load(\"de_core_news_sm\")\n",
    "doc = nlp(raw_data[0].strip())\n",
    "print(doc.text)\n",
    "for token in doc:\n",
    "    print(token.text, token.pos_)"
   ]
  },
  {
   "cell_type": "code",
   "execution_count": 10,
   "metadata": {},
   "outputs": [],
   "source": [
    "list_dict_data = []\n",
    "for sent in raw_data:\n",
    "    list_tuple_word_and_pos_tag = []\n",
    "    for word in sent.strip().split():\n",
    "        processed_word = nlp(word)\n",
    "        for token in processed_word:\n",
    "            list_tuple_word_and_pos_tag.append((token.text,token.pos_))\n",
    "#     print(list_tuple_word_and_pos_tag)\n",
    "    list_dict_data.append({\"list_tuple_word_and_pos_tag\": list_tuple_word_and_pos_tag, \"sentence\": sent.strip()})\n",
    "#     print(list_dict_data)\n",
    "#     break"
   ]
  },
  {
   "cell_type": "code",
   "execution_count": 11,
   "metadata": {},
   "outputs": [
    {
     "name": "stdout",
     "output_type": "stream",
     "text": [
      "29000\n"
     ]
    },
    {
     "data": {
      "text/plain": [
       "[{'list_tuple_word_and_pos_tag': [('Zwei', 'NUM'),\n",
       "   ('junge', 'NOUN'),\n",
       "   ('weiße', 'NOUN'),\n",
       "   ('Männer', 'NOUN'),\n",
       "   ('sind', 'AUX'),\n",
       "   ('im', 'ADP'),\n",
       "   ('Freien', 'NOUN'),\n",
       "   ('in', 'ADP'),\n",
       "   ('der', 'DET'),\n",
       "   ('Nähe', 'NOUN'),\n",
       "   ('vieler', 'DET'),\n",
       "   ('Büsche', 'NOUN'),\n",
       "   ('.', 'PUNCT')],\n",
       "  'sentence': 'Zwei junge weiße Männer sind im Freien in der Nähe vieler Büsche.'},\n",
       " {'list_tuple_word_and_pos_tag': [('Mehrere', 'PRON'),\n",
       "   ('Männer', 'NOUN'),\n",
       "   ('mit', 'ADP'),\n",
       "   ('Schutzhelmen', 'NOUN'),\n",
       "   ('bedienen', 'NOUN'),\n",
       "   ('ein', 'DET'),\n",
       "   ('Antriebsradsystem', 'NOUN'),\n",
       "   ('.', 'PUNCT')],\n",
       "  'sentence': 'Mehrere Männer mit Schutzhelmen bedienen ein Antriebsradsystem.'},\n",
       " {'list_tuple_word_and_pos_tag': [('Ein', 'DET'),\n",
       "   ('kleines', 'PROPN'),\n",
       "   ('Mädchen', 'NOUN'),\n",
       "   ('klettert', 'VERB'),\n",
       "   ('in', 'ADP'),\n",
       "   ('ein', 'DET'),\n",
       "   ('Spielhaus', 'ADV'),\n",
       "   ('aus', 'ADP'),\n",
       "   ('Holz', 'NOUN'),\n",
       "   ('.', 'PUNCT')],\n",
       "  'sentence': 'Ein kleines Mädchen klettert in ein Spielhaus aus Holz.'}]"
      ]
     },
     "execution_count": 11,
     "metadata": {},
     "output_type": "execute_result"
    }
   ],
   "source": [
    "print(len(list_dict_data))\n",
    "list_dict_data[:3]"
   ]
  },
  {
   "cell_type": "code",
   "execution_count": 13,
   "metadata": {},
   "outputs": [],
   "source": [
    "import numpy as np\n",
    "np.save('data_german/prepro_data_german.npy', list_dict_data )"
   ]
  },
  {
   "cell_type": "code",
   "execution_count": 14,
   "metadata": {},
   "outputs": [],
   "source": [
    "loaded_data = np.load('data_german/prepro_data_german.npy', allow_pickle=True)"
   ]
  },
  {
   "cell_type": "code",
   "execution_count": 15,
   "metadata": {},
   "outputs": [
    {
     "data": {
      "text/plain": [
       "29000"
      ]
     },
     "execution_count": 15,
     "metadata": {},
     "output_type": "execute_result"
    }
   ],
   "source": [
    "len(loaded_data)"
   ]
  },
  {
   "cell_type": "code",
   "execution_count": 16,
   "metadata": {},
   "outputs": [
    {
     "data": {
      "text/plain": [
       "array([{'list_tuple_word_and_pos_tag': [('Zwei', 'NUM'), ('junge', 'NOUN'), ('weiße', 'NOUN'), ('Männer', 'NOUN'), ('sind', 'AUX'), ('im', 'ADP'), ('Freien', 'NOUN'), ('in', 'ADP'), ('der', 'DET'), ('Nähe', 'NOUN'), ('vieler', 'DET'), ('Büsche', 'NOUN'), ('.', 'PUNCT')], 'sentence': 'Zwei junge weiße Männer sind im Freien in der Nähe vieler Büsche.'},\n",
       "       {'list_tuple_word_and_pos_tag': [('Mehrere', 'PRON'), ('Männer', 'NOUN'), ('mit', 'ADP'), ('Schutzhelmen', 'NOUN'), ('bedienen', 'NOUN'), ('ein', 'DET'), ('Antriebsradsystem', 'NOUN'), ('.', 'PUNCT')], 'sentence': 'Mehrere Männer mit Schutzhelmen bedienen ein Antriebsradsystem.'},\n",
       "       {'list_tuple_word_and_pos_tag': [('Ein', 'DET'), ('kleines', 'PROPN'), ('Mädchen', 'NOUN'), ('klettert', 'VERB'), ('in', 'ADP'), ('ein', 'DET'), ('Spielhaus', 'ADV'), ('aus', 'ADP'), ('Holz', 'NOUN'), ('.', 'PUNCT')], 'sentence': 'Ein kleines Mädchen klettert in ein Spielhaus aus Holz.'}],\n",
       "      dtype=object)"
      ]
     },
     "execution_count": 16,
     "metadata": {},
     "output_type": "execute_result"
    }
   ],
   "source": [
    "loaded_data[:3]"
   ]
  },
  {
   "cell_type": "code",
   "execution_count": null,
   "metadata": {},
   "outputs": [],
   "source": []
  }
 ],
 "metadata": {
  "kernelspec": {
   "display_name": "Python 3",
   "language": "python",
   "name": "python3"
  },
  "language_info": {
   "codemirror_mode": {
    "name": "ipython",
    "version": 3
   },
   "file_extension": ".py",
   "mimetype": "text/x-python",
   "name": "python",
   "nbconvert_exporter": "python",
   "pygments_lexer": "ipython3",
   "version": "3.7.6"
  }
 },
 "nbformat": 4,
 "nbformat_minor": 2
}
